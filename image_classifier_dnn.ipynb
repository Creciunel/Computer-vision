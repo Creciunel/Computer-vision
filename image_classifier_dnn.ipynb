{
  "nbformat": 4,
  "nbformat_minor": 0,
  "metadata": {
    "colab": {
      "provenance": []
    },
    "kernelspec": {
      "name": "python3",
      "display_name": "Python 3"
    },
    "language_info": {
      "name": "python"
    }
  },
  "cells": [
    {
      "cell_type": "markdown",
      "metadata": {
        "id": "PC2XM9ueyLhu"
      },
      "source": [
        "# Image Classification: Dense Neural Network\n",
        "\n",
        "[![Open In Colab <](https://colab.research.google.com/assets/colab-badge.svg)](https://colab.research.google.com/github/ShawnHymel/computer-vision-with-embedded-machine-learning/blob/master/1.2.3%20-%20Training%20an%20Image%20Classifier%20with%20Keras/image_classifier_dnn.ipynb)\n",
        "\n",
        "Run this notebook to train a dense neural network (DNN) on your own image dataset.\n",
        "\n",
        "Based on: https://colab.research.google.com/github/AviatorMoser/keras-mnist-tutorial/blob/master/MNIST%20in%20Keras.ipynb#scrollTo=rFFriuVPwhAm\n",
        "\n",
        "(I recommend working through the example above, as it has a lot of good descriptions on doing classification with images)\n",
        "\n",
        "Create a folder named \"dataset\" in the /content directory and upload your images there. The images should be divided into their respective classes, where each class has its own folder with the name of the class. For example:\n",
        "\n",
        "<pre>\n",
        "/content\n",
        "    |- dataset\n",
        "        |- background\n",
        "        |- capacitor\n",
        "        |- diode\n",
        "        |- led\n",
        "        |- resistor\n",
        "</pre>\n",
        "\n",
        "Author: EdgeImpulse, Inc.<br>\n",
        "Date: June 5, 2021<br>\n",
        "License: [Apache-2.0](apache.org/licenses/LICENSE-2.0)<br>"
      ]
    },
    {
      "cell_type": "code",
      "metadata": {
        "id": "jhHG2__GyJjs"
      },
      "source": [
        "import numpy as np\n",
        "import matplotlib.pyplot as plt\n",
        "import random\n",
        "import os\n",
        "import PIL\n",
        "\n",
        "from keras import utils                                   # tools for creating one-hot encoding\n",
        "from keras.models import Sequential                       # Type of model we wish to use\n",
        "from keras.layers import Dense, Dropout, Activation       # Types of layers we wish to use\n",
        "\n",
        "from skimage.transform import resize                      # Used to scale/resize image arrays\n",
        "\n",
        "from sklearn.metrics import confusion_matrix              # Used to quickly make confusion matrix"
      ],
      "execution_count": null,
      "outputs": []
    },
    {
      "cell_type": "code",
      "metadata": {
        "id": "wu2l_Lm0yhtJ"
      },
      "source": [
        "### Settings\n",
        "\n",
        "# Location of dataset\n",
        "DATASET_PATH = \"/content/dataset\"\n",
        "\n",
        "# Desired resolution of images\n",
        "TARGET_WIDTH = 28\n",
        "TARGET_HEIGHT = 28\n",
        "\n",
        "# Invert image (dark backgrounds can sometimes improve accuracy)\n",
        "INVERT = False\n",
        "\n",
        "# Set aside 20% for validation and 20% for test\n",
        "VAL_RATIO = 0.2\n",
        "TEST_RATIO = 0.2\n",
        "\n",
        "# You are welcome to change the seed to try a different validation set split\n",
        "random.seed(42)"
      ],
      "execution_count": null,
      "outputs": []
    },
    {
      "cell_type": "code",
      "metadata": {
        "colab": {
          "base_uri": "https://localhost:8080/"
        },
        "id": "FXcJLxcv0yOT",
        "outputId": "03d2470f-f33f-4700-ecb1-a3cb6f51b482"
      },
      "source": [
        "### Load images as Numpy arrays\n",
        "\n",
        "# We want to record the labels and assign a ground truth label as a number to each sample\n",
        "labels = []\n",
        "y_all = []    # Lowercase 'y' - 1D vector of the ground labels (n)\n",
        "X_all = []    # Uppercase 'X' - 3D array of all image samples (n x width x height)\n",
        "\n",
        "# Find the directories in the dataset folder (skip the Jupyter Notebook checkpoints hidden folder)\n",
        "for label in os.listdir(DATASET_PATH):\n",
        "  class_dir = os.path.join(DATASET_PATH, label)\n",
        "  if os.path.isdir(class_dir) and label != \".ipynb_checkpoints\":\n",
        "\n",
        "    # Add the name of the folder to our labels list\n",
        "    labels.append(label)\n",
        "\n",
        "    # Go through each image in the folder\n",
        "    for i, file in enumerate(os.listdir(class_dir)):\n",
        "\n",
        "      # Skip the Jupyter Notebook checkpoints folder that sometimes gets added\n",
        "      if file != \".ipynb_checkpoints\":\n",
        "\n",
        "        # Open image and convert to grayscale\n",
        "        file_path = os.path.join(class_dir, file)\n",
        "        img = PIL.Image.open(file_path).convert('L')\n",
        "\n",
        "        # Convert the image to a Numpy array, optionally invern, and append to X\n",
        "        img_array = np.asarray(img)\n",
        "        if INVERT:\n",
        "          img_array = 255 - img_array\n",
        "        X_all.append(img_array)\n",
        "\n",
        "        # Add label to the y array\n",
        "        y_all.append(label)\n",
        "\n",
        "    # Show how many images we loaded\n",
        "    print(\"Added\", str(i + 1), \"images from\", label)\n",
        "\n",
        "# Calculate total number of samples\n",
        "num_samples = len(X_all)\n",
        "\n",
        "# Sort the labels list by alphabetical order\n",
        "labels = sorted(labels)\n",
        "\n",
        "# Print out labels and number of samples\n",
        "print(labels)\n",
        "print(\"Number of samples:\", num_samples)"
      ],
      "execution_count": null,
      "outputs": [
        {
          "output_type": "stream",
          "name": "stdout",
          "text": [
            "Added 50 images from peanut\n",
            "Added 50 images from cashew\n",
            "Added 50 images from bc\n",
            "['bc', 'cashew', 'peanut']\n",
            "Number of samples: 150\n"
          ]
        }
      ]
    },
    {
      "cell_type": "code",
      "metadata": {
        "colab": {
          "base_uri": "https://localhost:8080/"
        },
        "id": "_ux1q5Z_nFq0",
        "outputId": "944132b9-4c74-4e56-fa8d-8ece8f9a8451"
      },
      "source": [
        "### Convert labels to numbers\n",
        "\n",
        "# Show the labels before the conversion\n",
        "print(\"Before:\", y_all)\n",
        "\n",
        "# Convert each label to its index in the labels\n",
        "y_out = []\n",
        "for i, label in enumerate(y_all):\n",
        "  y_out.append(labels.index(label))\n",
        "y_all = y_out\n",
        "\n",
        "# Show the labels after the conversion\n",
        "print(\"After:\", y_all)"
      ],
      "execution_count": null,
      "outputs": [
        {
          "output_type": "stream",
          "name": "stdout",
          "text": [
            "Before: ['peanut', 'peanut', 'peanut', 'peanut', 'peanut', 'peanut', 'peanut', 'peanut', 'peanut', 'peanut', 'peanut', 'peanut', 'peanut', 'peanut', 'peanut', 'peanut', 'peanut', 'peanut', 'peanut', 'peanut', 'peanut', 'peanut', 'peanut', 'peanut', 'peanut', 'peanut', 'peanut', 'peanut', 'peanut', 'peanut', 'peanut', 'peanut', 'peanut', 'peanut', 'peanut', 'peanut', 'peanut', 'peanut', 'peanut', 'peanut', 'peanut', 'peanut', 'peanut', 'peanut', 'peanut', 'peanut', 'peanut', 'peanut', 'peanut', 'peanut', 'cashew', 'cashew', 'cashew', 'cashew', 'cashew', 'cashew', 'cashew', 'cashew', 'cashew', 'cashew', 'cashew', 'cashew', 'cashew', 'cashew', 'cashew', 'cashew', 'cashew', 'cashew', 'cashew', 'cashew', 'cashew', 'cashew', 'cashew', 'cashew', 'cashew', 'cashew', 'cashew', 'cashew', 'cashew', 'cashew', 'cashew', 'cashew', 'cashew', 'cashew', 'cashew', 'cashew', 'cashew', 'cashew', 'cashew', 'cashew', 'cashew', 'cashew', 'cashew', 'cashew', 'cashew', 'cashew', 'cashew', 'cashew', 'cashew', 'cashew', 'bc', 'bc', 'bc', 'bc', 'bc', 'bc', 'bc', 'bc', 'bc', 'bc', 'bc', 'bc', 'bc', 'bc', 'bc', 'bc', 'bc', 'bc', 'bc', 'bc', 'bc', 'bc', 'bc', 'bc', 'bc', 'bc', 'bc', 'bc', 'bc', 'bc', 'bc', 'bc', 'bc', 'bc', 'bc', 'bc', 'bc', 'bc', 'bc', 'bc', 'bc', 'bc', 'bc', 'bc', 'bc', 'bc', 'bc', 'bc', 'bc', 'bc']\n",
            "After: [2, 2, 2, 2, 2, 2, 2, 2, 2, 2, 2, 2, 2, 2, 2, 2, 2, 2, 2, 2, 2, 2, 2, 2, 2, 2, 2, 2, 2, 2, 2, 2, 2, 2, 2, 2, 2, 2, 2, 2, 2, 2, 2, 2, 2, 2, 2, 2, 2, 2, 1, 1, 1, 1, 1, 1, 1, 1, 1, 1, 1, 1, 1, 1, 1, 1, 1, 1, 1, 1, 1, 1, 1, 1, 1, 1, 1, 1, 1, 1, 1, 1, 1, 1, 1, 1, 1, 1, 1, 1, 1, 1, 1, 1, 1, 1, 1, 1, 1, 1, 0, 0, 0, 0, 0, 0, 0, 0, 0, 0, 0, 0, 0, 0, 0, 0, 0, 0, 0, 0, 0, 0, 0, 0, 0, 0, 0, 0, 0, 0, 0, 0, 0, 0, 0, 0, 0, 0, 0, 0, 0, 0, 0, 0, 0, 0, 0, 0, 0, 0]\n"
          ]
        }
      ]
    },
    {
      "cell_type": "code",
      "metadata": {
        "colab": {
          "base_uri": "https://localhost:8080/"
        },
        "id": "oJrS0Oz31NkI",
        "outputId": "c7f5dfd9-7fa9-4b55-83a7-22eb39f3cf6e"
      },
      "source": [
        "### Shuffle samples and labels together, divide into test, validation, and training sets\n",
        "\n",
        "# Shuffle samples and associated labels together\n",
        "X_y = list(zip(X_all, y_all))\n",
        "random.shuffle(X_y)\n",
        "X_all, y_all = zip(*X_y)\n",
        "\n",
        "# Calculate number of validation and test samples to put aside (round down)\n",
        "num_samples_test = int(TEST_RATIO * num_samples)\n",
        "num_samples_val = int(VAL_RATIO * num_samples)\n",
        "\n",
        "# The first `num_samples_test` samples of the shuffled list becomes the test set\n",
        "X_test = X_all[:num_samples_test]\n",
        "y_test = y_all[:num_samples_test]\n",
        "\n",
        "# The next `num_samples_val` samples of the shuffled list becomes the validation set\n",
        "X_val = X_all[num_samples_test:(num_samples_test + num_samples_val)]\n",
        "y_val = y_all[num_samples_test:(num_samples_test + num_samples_val)]\n",
        "\n",
        "# The remaining samples become the training set\n",
        "X_train = X_all[(num_samples_test + num_samples_val):]\n",
        "y_train = y_all[(num_samples_test + num_samples_val):]\n",
        "\n",
        "# Remember the number of samples in the test set\n",
        "num_samples_train = len(X_train)\n",
        "\n",
        "# Print out the number of test, validation, and training samples\n",
        "print(\"Number of test samples:\", num_samples_test)\n",
        "print(\"Number of validation samples:\", num_samples_val)\n",
        "print(\"Number of training samples:\", num_samples_train)"
      ],
      "execution_count": null,
      "outputs": [
        {
          "output_type": "stream",
          "name": "stdout",
          "text": [
            "Number of test samples: 30\n",
            "Number of validation samples: 30\n",
            "Number of training samples: 90\n"
          ]
        }
      ]
    },
    {
      "cell_type": "code",
      "metadata": {
        "colab": {
          "base_uri": "https://localhost:8080/",
          "height": 589
        },
        "id": "6FwDtw_DazYG",
        "outputId": "4ff9b1c2-622d-4b68-ea17-55ffd34af807"
      },
      "source": [
        "### View one of the training samples\n",
        "\n",
        "# Chose which sample you want to view\n",
        "idx = 0\n",
        "\n",
        "# Print out label (numbe and string) and part of the array\n",
        "print(\"Label: \" + str(y_train[idx]) + \" (\" + labels[y_train[idx]] + \")\")\n",
        "print(X_train[idx])\n",
        "\n",
        "# Display image from array\n",
        "plt.imshow(X_train[idx], cmap='gray', vmin=0, vmax=255)"
      ],
      "execution_count": null,
      "outputs": [
        {
          "output_type": "stream",
          "name": "stdout",
          "text": [
            "Label: 2 (peanut)\n",
            "[[148 148 148 ... 159 159 159]\n",
            " [145 145 145 ... 159 159 159]\n",
            " [145 144 143 ... 160 159 159]\n",
            " ...\n",
            " [139 139 139 ... 164 164 164]\n",
            " [140 140 140 ... 164 164 164]\n",
            " [140 137 137 ... 164 167 167]]\n"
          ]
        },
        {
          "output_type": "execute_result",
          "data": {
            "text/plain": [
              "<matplotlib.image.AxesImage at 0x7dd3975dbd00>"
            ]
          },
          "metadata": {},
          "execution_count": 8
        },
        {
          "output_type": "display_data",
          "data": {
            "text/plain": [
              "<Figure size 640x480 with 1 Axes>"
            ],
            "image/png": "[encoded data removed]"
          },
          "metadata": {}
        }
      ]
    },
    {
      "cell_type": "code",
      "metadata": {
        "id": "7eVgRZnHc6_y"
      },
      "source": [
        "### Function to resize list of images\n",
        "def resize_images(images, width, height, anti_aliasing=True):\n",
        "  \"\"\"\n",
        "  Prove a list of Numpy arrays (in images parameter) to have them all resized to desired height and\n",
        "  width. Returns the list of newly resized image arrays.\n",
        "\n",
        "  NOTE: skimage resize returns *normalized* image arrays (values between 0..1)\n",
        "  \"\"\"\n",
        "  X_out = []\n",
        "  for i, img in enumerate(images):\n",
        "    X_out.append(resize(img, (height, width), anti_aliasing=anti_aliasing))\n",
        "  return X_out"
      ],
      "execution_count": null,
      "outputs": []
    },
    {
      "cell_type": "code",
      "metadata": {
        "id": "YNpuq5Lxa9Ck"
      },
      "source": [
        "### Scale/crop images\n",
        "\n",
        "# Resize (scale) all images in the training set\n",
        "X_train = resize_images(X_train, TARGET_WIDTH, TARGET_HEIGHT)\n",
        "\n",
        "# Resize (scale) all images in the validation set\n",
        "X_val = resize_images(X_val, TARGET_WIDTH, TARGET_HEIGHT)\n",
        "\n",
        "# Resize (scale) all images in the test set\n",
        "X_test = resize_images(X_test, TARGET_WIDTH, TARGET_HEIGHT)"
      ],
      "execution_count": null,
      "outputs": []
    },
    {
      "cell_type": "code",
      "metadata": {
        "colab": {
          "base_uri": "https://localhost:8080/",
          "height": 552
        },
        "id": "tL9W4Pw1cVon",
        "outputId": "c137eda6-688a-4bea-f4a6-259b2b49ac64"
      },
      "source": [
        "### View training sample again (after they all have been scaled)\n",
        "\n",
        "# Chose which sample you want to view\n",
        "idx = 0\n",
        "\n",
        "# Print out label (numbe and string) and part of the array\n",
        "print(\"Label: \" + str(y_train[idx]) + \" (\" + labels[y_train[idx]] + \")\")\n",
        "print(\"First row:\", X_train[idx][:1,:])\n",
        "\n",
        "# Display image from array (note that images have been normalized)\n",
        "plt.imshow(X_train[idx], cmap='gray', vmin=0, vmax=1)"
      ],
      "execution_count": null,
      "outputs": [
        {
          "output_type": "stream",
          "name": "stdout",
          "text": [
            "Label: 2 (peanut)\n",
            "First row: [[0.57047741 0.57938368 0.57856756 0.58201323 0.587602   0.58489844\n",
            "  0.58463439 0.59636138 0.59890102 0.60114395 0.6015997  0.60911082\n",
            "  0.61180276 0.60147238 0.61469793 0.62491773 0.6255665  0.62359405\n",
            "  0.62246989 0.62556034 0.62538694 0.62485466 0.62442153 0.62702748\n",
            "  0.6300594  0.62562146 0.62705472 0.62433657]]\n"
          ]
        },
        {
          "output_type": "execute_result",
          "data": {
            "text/plain": [
              "<matplotlib.image.AxesImage at 0x7dd3974c4c70>"
            ]
          },
          "metadata": {},
          "execution_count": 11
        },
        {
          "output_type": "display_data",
          "data": {
            "text/plain": [
              "<Figure size 640x480 with 1 Axes>"
            ],
            "image/png": "[encoded data removed]"
          },
          "metadata": {}
        }
      ]
    },
    {
      "cell_type": "code",
      "metadata": {
        "colab": {
          "base_uri": "https://localhost:8080/"
        },
        "id": "E13XUha044fM",
        "outputId": "38710961-7438-4544-cc8e-751db3a8f3fa"
      },
      "source": [
        "### Convert list of samples and labels into Numpy arrays\n",
        "\n",
        "# Training set\n",
        "X_train = np.asarray(X_train)\n",
        "y_train = np.asarray(y_train)\n",
        "\n",
        "# Validation set\n",
        "X_val = np.asarray(X_val)\n",
        "y_val = np.asarray(y_val)\n",
        "\n",
        "# Test set\n",
        "X_test = np.asarray(X_test)\n",
        "y_test = np.asarray(y_test)\n",
        "\n",
        "# Print out the new Numpy array shapes (always a good idea to check the shapes!)\n",
        "print(\"Training X:\", X_train.shape)\n",
        "print(\"Training y:\", y_train.shape)\n",
        "print(\"Validation X:\", X_val.shape)\n",
        "print(\"Validation y:\", y_val.shape)\n",
        "print(\"Test X:\", X_test.shape)\n",
        "print(\"Test y:\", y_test.shape)"
      ],
      "execution_count": null,
      "outputs": [
        {
          "output_type": "stream",
          "name": "stdout",
          "text": [
            "Training X: (90, 28, 28)\n",
            "Training y: (90,)\n",
            "Validation X: (30, 28, 28)\n",
            "Validation y: (30,)\n",
            "Test X: (30, 28, 28)\n",
            "Test y: (30,)\n"
          ]
        }
      ]
    },
    {
      "cell_type": "code",
      "metadata": {
        "id": "Bf-p0MnJ9csm",
        "colab": {
          "base_uri": "https://localhost:8080/"
        },
        "outputId": "630afb5b-86c0-481b-fbeb-ee2edda50532"
      },
      "source": [
        "### Flatten each image to a 1D vector (DNN requires 1D input)\n",
        "\n",
        "# Compute length of 1D array that we will flatten each image to\n",
        "len_vector = TARGET_WIDTH * TARGET_WIDTH\n",
        "\n",
        "# Flatten matricies to vectors\n",
        "X_train = X_train.reshape(num_samples_train, len_vector)\n",
        "X_val = X_val.reshape(num_samples_val, len_vector)\n",
        "X_test = X_test.reshape(num_samples_test, len_vector)\n",
        "\n",
        "# Determine the input shape for our Keras model (must be tuple)\n",
        "input_shape = (X_train.shape[1],)\n",
        "\n",
        "# Print out shapes\n",
        "print(\"X train:\", X_train.shape)\n",
        "print(\"y train:\", y_train.shape)\n",
        "print(\"X val:\", X_val.shape)\n",
        "print(\"y val:\", y_val.shape)\n",
        "print(\"X test:\", X_test.shape)\n",
        "print(\"y test:\", y_test.shape)\n",
        "print(\"Input tensor shape:\", input_shape)"
      ],
      "execution_count": null,
      "outputs": [
        {
          "output_type": "stream",
          "name": "stdout",
          "text": [
            "X train: (90, 784)\n",
            "y train: (90,)\n",
            "X val: (30, 784)\n",
            "y val: (30,)\n",
            "X test: (30, 784)\n",
            "y test: (30,)\n",
            "Input tensor shape: (784,)\n"
          ]
        }
      ]
    },
    {
      "cell_type": "code",
      "metadata": {
        "id": "m2D1xsis98pW",
        "colab": {
          "base_uri": "https://localhost:8080/"
        },
        "outputId": "316cfb45-9787-4636-eca0-ce174a24d825"
      },
      "source": [
        "### Convert labels (integers) to one-hot encoding\n",
        "\n",
        "# Get number of classes\n",
        "num_classes = len(labels)\n",
        "\n",
        "# Use Keras's np_utils to create one-hot encoding (note the capital 'Y' - 2D array)\n",
        "Y_train = utils.to_categorical(y_train, num_classes)\n",
        "Y_val = utils.to_categorical(y_val, num_classes)\n",
        "Y_test = utils.to_categorical(y_test, num_classes)\n",
        "\n",
        "# Print out shapes (capital 'Y' is our one-hot matrix!)\n",
        "print(\"Y train:\", Y_train.shape)\n",
        "print(\"Y val:\", Y_val.shape)\n",
        "print(\"Y test:\", Y_test.shape)\n",
        "\n",
        "# Print out a few examples from training set\n",
        "for i in range(10):\n",
        "  print(\"Label: \" + str(y_train[i]) + \" | One-hot:\", Y_train[i])"
      ],
      "execution_count": null,
      "outputs": [
        {
          "output_type": "stream",
          "name": "stdout",
          "text": [
            "Y train: (90, 3)\n",
            "Y val: (30, 3)\n",
            "Y test: (30, 3)\n",
            "Label: 2 | One-hot: [0. 0. 1.]\n",
            "Label: 1 | One-hot: [0. 1. 0.]\n",
            "Label: 2 | One-hot: [0. 0. 1.]\n",
            "Label: 0 | One-hot: [1. 0. 0.]\n",
            "Label: 2 | One-hot: [0. 0. 1.]\n",
            "Label: 0 | One-hot: [1. 0. 0.]\n",
            "Label: 1 | One-hot: [0. 1. 0.]\n",
            "Label: 1 | One-hot: [0. 1. 0.]\n",
            "Label: 0 | One-hot: [1. 0. 0.]\n",
            "Label: 1 | One-hot: [0. 1. 0.]\n"
          ]
        }
      ]
    },
    {
      "cell_type": "code",
      "metadata": {
        "id": "uJK-b2ds94w4",
        "colab": {
          "base_uri": "https://localhost:8080/"
        },
        "outputId": "58db1eef-7f8e-479e-b2c9-b182f68f2ecd"
      },
      "source": [
        "### Construct Keras model\n",
        "\n",
        "# A sequential model is a linear stack of layers\n",
        "model = Sequential()\n",
        "\n",
        "# First layer: fully-connected with relu activation\n",
        "model.add(Dense(64, input_shape=input_shape))\n",
        "model.add(Activation('relu'))\n",
        "model.add(Dropout(0.25))\n",
        "\n",
        "# Second layer: fully-connected with relu activation\n",
        "model.add(Dense(64))   # Input shape is determined automatically from previous layer\n",
        "model.add(Activation('relu'))\n",
        "model.add(Dropout(0.25))\n",
        "\n",
        "# Third layer: 10 nodes, one for each class, and softmax activation\n",
        "model.add(Dense(num_classes))\n",
        "model.add(Activation('softmax'))\n",
        "\n",
        "# Configure the model's training settings\n",
        "model.compile(loss='categorical_crossentropy', optimizer='adam', metrics=['acc'])\n",
        "\n",
        "# Print out model summary\n",
        "print(model.summary())"
      ],
      "execution_count": null,
      "outputs": [
        {
          "output_type": "stream",
          "name": "stdout",
          "text": [
            "Model: \"sequential\"\n",
            "_________________________________________________________________\n",
            " Layer (type)                Output Shape              Param #   \n",
            "=================================================================\n",
            " dense (Dense)               (None, 64)                50240     \n",
            "                                                                 \n",
            " activation (Activation)     (None, 64)                0         \n",
            "                                                                 \n",
            " dropout (Dropout)           (None, 64)                0         \n",
            "                                                                 \n",
            " dense_1 (Dense)             (None, 64)                4160      \n",
            "                                                                 \n",
            " activation_1 (Activation)   (None, 64)                0         \n",
            "                                                                 \n",
            " dropout_1 (Dropout)         (None, 64)                0         \n",
            "                                                                 \n",
            " dense_2 (Dense)             (None, 3)                 195       \n",
            "                                                                 \n",
            " activation_2 (Activation)   (None, 3)                 0         \n",
            "                                                                 \n",
            "=================================================================\n",
            "Total params: 54595 (213.26 KB)\n",
            "Trainable params: 54595 (213.26 KB)\n",
            "Non-trainable params: 0 (0.00 Byte)\n",
            "_________________________________________________________________\n",
            "None\n"
          ]
        }
      ]
    },
    {
      "cell_type": "code",
      "metadata": {
        "colab": {
          "base_uri": "https://localhost:8080/"
        },
        "id": "4Rc0O_86pmwb",
        "outputId": "9f5fcd7e-a519-4f81-ffd2-946b6b24f2c1"
      },
      "source": [
        "### Train the model\n",
        "history = model.fit(X_train,\n",
        "                    Y_train,\n",
        "                    batch_size=32,\n",
        "                    epochs=200,\n",
        "                    verbose=1,\n",
        "                    validation_data=(X_val, Y_val))"
      ],
      "execution_count": null,
      "outputs": [
        {
          "output_type": "stream",
          "name": "stdout",
          "text": [
            "Epoch 1/200\n",
            "3/3 [==============================] - 3s 242ms/step - loss: 1.1256 - acc: 0.3667 - val_loss: 1.1172 - val_acc: 0.3000\n",
            "Epoch 2/200\n",
            "3/3 [==============================] - 0s 18ms/step - loss: 1.1462 - acc: 0.3333 - val_loss: 1.1340 - val_acc: 0.3667\n",
            "Epoch 3/200\n",
            "3/3 [==============================] - 0s 20ms/step - loss: 1.1756 - acc: 0.3556 - val_loss: 1.1036 - val_acc: 0.3000\n",
            "Epoch 4/200\n",
            "3/3 [==============================] - 0s 26ms/step - loss: 1.1780 - acc: 0.2889 - val_loss: 1.0984 - val_acc: 0.3000\n",
            "Epoch 5/200\n",
            "3/3 [==============================] - 0s 18ms/step - loss: 1.1006 - acc: 0.2889 - val_loss: 1.1144 - val_acc: 0.4000\n",
            "Epoch 6/200\n",
            "3/3 [==============================] - 0s 28ms/step - loss: 1.1100 - acc: 0.3444 - val_loss: 1.1120 - val_acc: 0.4000\n",
            "Epoch 7/200\n",
            "3/3 [==============================] - 0s 29ms/step - loss: 1.1054 - acc: 0.4000 - val_loss: 1.1094 - val_acc: 0.3667\n",
            "Epoch 8/200\n",
            "3/3 [==============================] - 0s 21ms/step - loss: 1.0801 - acc: 0.3889 - val_loss: 1.1056 - val_acc: 0.3000\n",
            "Epoch 9/200\n",
            "3/3 [==============================] - 0s 18ms/step - loss: 1.0642 - acc: 0.3778 - val_loss: 1.0983 - val_acc: 0.3000\n",
            "Epoch 10/200\n",
            "3/3 [==============================] - 0s 18ms/step - loss: 1.0599 - acc: 0.4000 - val_loss: 1.0753 - val_acc: 0.4333\n",
            "Epoch 11/200\n",
            "3/3 [==============================] - 0s 18ms/step - loss: 1.0724 - acc: 0.4222 - val_loss: 1.0796 - val_acc: 0.3333\n",
            "Epoch 12/200\n",
            "3/3 [==============================] - 0s 18ms/step - loss: 1.0241 - acc: 0.5333 - val_loss: 1.0795 - val_acc: 0.3333\n",
            "Epoch 13/200\n",
            "3/3 [==============================] - 0s 29ms/step - loss: 1.0523 - acc: 0.4111 - val_loss: 1.0964 - val_acc: 0.3333\n",
            "Epoch 14/200\n",
            "3/3 [==============================] - 0s 22ms/step - loss: 1.0589 - acc: 0.3889 - val_loss: 1.0827 - val_acc: 0.3333\n",
            "Epoch 15/200\n",
            "3/3 [==============================] - 0s 19ms/step - loss: 1.0481 - acc: 0.4222 - val_loss: 1.0786 - val_acc: 0.4000\n",
            "Epoch 16/200\n",
            "3/3 [==============================] - 0s 19ms/step - loss: 1.0369 - acc: 0.4778 - val_loss: 1.0865 - val_acc: 0.3333\n",
            "Epoch 17/200\n",
            "3/3 [==============================] - 0s 27ms/step - loss: 1.0376 - acc: 0.4333 - val_loss: 1.0934 - val_acc: 0.3667\n",
            "Epoch 18/200\n",
            "3/3 [==============================] - 0s 22ms/step - loss: 1.0062 - acc: 0.5222 - val_loss: 1.0988 - val_acc: 0.4000\n",
            "Epoch 19/200\n",
            "3/3 [==============================] - 0s 29ms/step - loss: 0.9940 - acc: 0.5111 - val_loss: 1.1028 - val_acc: 0.3000\n",
            "Epoch 20/200\n",
            "3/3 [==============================] - 0s 21ms/step - loss: 0.9791 - acc: 0.4778 - val_loss: 1.0918 - val_acc: 0.3667\n",
            "Epoch 21/200\n",
            "3/3 [==============================] - 0s 29ms/step - loss: 1.0236 - acc: 0.5000 - val_loss: 1.0816 - val_acc: 0.4667\n",
            "Epoch 22/200\n",
            "3/3 [==============================] - 0s 28ms/step - loss: 1.0007 - acc: 0.5222 - val_loss: 1.0746 - val_acc: 0.4000\n",
            "Epoch 23/200\n",
            "3/3 [==============================] - 0s 27ms/step - loss: 1.0166 - acc: 0.5111 - val_loss: 1.0808 - val_acc: 0.3667\n",
            "Epoch 24/200\n",
            "3/3 [==============================] - 0s 29ms/step - loss: 0.9853 - acc: 0.4667 - val_loss: 1.0935 - val_acc: 0.3667\n",
            "Epoch 25/200\n",
            "3/3 [==============================] - 0s 21ms/step - loss: 0.9910 - acc: 0.4667 - val_loss: 1.0967 - val_acc: 0.4000\n",
            "Epoch 26/200\n",
            "3/3 [==============================] - 0s 20ms/step - loss: 0.9615 - acc: 0.4778 - val_loss: 1.1186 - val_acc: 0.3000\n",
            "Epoch 27/200\n",
            "3/3 [==============================] - 0s 37ms/step - loss: 0.9369 - acc: 0.5222 - val_loss: 1.0780 - val_acc: 0.4000\n",
            "Epoch 28/200\n",
            "3/3 [==============================] - 0s 36ms/step - loss: 0.9559 - acc: 0.5667 - val_loss: 1.0792 - val_acc: 0.4333\n",
            "Epoch 29/200\n",
            "3/3 [==============================] - 0s 37ms/step - loss: 0.9295 - acc: 0.5111 - val_loss: 1.1239 - val_acc: 0.4000\n",
            "Epoch 30/200\n",
            "3/3 [==============================] - 0s 37ms/step - loss: 0.9765 - acc: 0.5333 - val_loss: 1.0919 - val_acc: 0.5000\n",
            "Epoch 31/200\n",
            "3/3 [==============================] - 0s 36ms/step - loss: 0.9012 - acc: 0.5667 - val_loss: 1.0638 - val_acc: 0.4667\n",
            "Epoch 32/200\n",
            "3/3 [==============================] - 0s 37ms/step - loss: 0.9300 - acc: 0.6000 - val_loss: 1.0635 - val_acc: 0.5333\n",
            "Epoch 33/200\n",
            "3/3 [==============================] - 0s 35ms/step - loss: 0.9684 - acc: 0.4889 - val_loss: 1.1056 - val_acc: 0.4000\n",
            "Epoch 34/200\n",
            "3/3 [==============================] - 0s 44ms/step - loss: 0.9087 - acc: 0.5222 - val_loss: 1.0546 - val_acc: 0.5333\n",
            "Epoch 35/200\n",
            "3/3 [==============================] - 0s 38ms/step - loss: 0.9394 - acc: 0.5778 - val_loss: 1.0637 - val_acc: 0.5333\n",
            "Epoch 36/200\n",
            "3/3 [==============================] - 0s 38ms/step - loss: 0.8966 - acc: 0.5778 - val_loss: 1.1029 - val_acc: 0.4667\n",
            "Epoch 37/200\n",
            "3/3 [==============================] - 0s 42ms/step - loss: 0.9298 - acc: 0.5333 - val_loss: 1.0879 - val_acc: 0.4667\n",
            "Epoch 38/200\n",
            "3/3 [==============================] - 0s 37ms/step - loss: 0.8740 - acc: 0.5889 - val_loss: 1.0911 - val_acc: 0.4000\n",
            "Epoch 39/200\n",
            "3/3 [==============================] - 0s 36ms/step - loss: 0.9136 - acc: 0.5333 - val_loss: 1.0877 - val_acc: 0.4667\n",
            "Epoch 40/200\n",
            "3/3 [==============================] - 0s 49ms/step - loss: 0.8888 - acc: 0.5556 - val_loss: 1.0854 - val_acc: 0.4667\n",
            "Epoch 41/200\n",
            "3/3 [==============================] - 0s 37ms/step - loss: 0.8653 - acc: 0.6444 - val_loss: 1.0840 - val_acc: 0.5333\n",
            "Epoch 42/200\n",
            "3/3 [==============================] - 0s 24ms/step - loss: 0.9130 - acc: 0.6111 - val_loss: 1.0898 - val_acc: 0.4333\n",
            "Epoch 43/200\n",
            "3/3 [==============================] - 0s 35ms/step - loss: 0.8592 - acc: 0.6556 - val_loss: 1.0854 - val_acc: 0.4333\n",
            "Epoch 44/200\n",
            "3/3 [==============================] - 0s 38ms/step - loss: 0.8474 - acc: 0.6556 - val_loss: 1.0964 - val_acc: 0.5333\n",
            "Epoch 45/200\n",
            "3/3 [==============================] - 0s 39ms/step - loss: 0.8729 - acc: 0.5778 - val_loss: 1.0690 - val_acc: 0.5333\n",
            "Epoch 46/200\n",
            "3/3 [==============================] - 0s 28ms/step - loss: 0.8683 - acc: 0.6444 - val_loss: 1.0456 - val_acc: 0.5333\n",
            "Epoch 47/200\n",
            "3/3 [==============================] - 0s 46ms/step - loss: 0.9123 - acc: 0.6111 - val_loss: 1.0854 - val_acc: 0.4667\n",
            "Epoch 48/200\n",
            "3/3 [==============================] - 0s 38ms/step - loss: 0.8420 - acc: 0.6556 - val_loss: 1.0769 - val_acc: 0.5333\n",
            "Epoch 49/200\n",
            "3/3 [==============================] - 0s 33ms/step - loss: 0.8535 - acc: 0.5778 - val_loss: 1.0395 - val_acc: 0.6000\n",
            "Epoch 50/200\n",
            "3/3 [==============================] - 0s 36ms/step - loss: 0.8517 - acc: 0.6778 - val_loss: 1.0657 - val_acc: 0.5333\n",
            "Epoch 51/200\n",
            "3/3 [==============================] - 0s 37ms/step - loss: 0.8426 - acc: 0.6333 - val_loss: 1.1261 - val_acc: 0.5000\n",
            "Epoch 52/200\n",
            "3/3 [==============================] - 0s 36ms/step - loss: 0.8634 - acc: 0.5778 - val_loss: 1.0741 - val_acc: 0.5000\n",
            "Epoch 53/200\n",
            "3/3 [==============================] - 0s 46ms/step - loss: 0.8007 - acc: 0.6111 - val_loss: 1.0335 - val_acc: 0.5333\n",
            "Epoch 54/200\n",
            "3/3 [==============================] - 0s 38ms/step - loss: 0.8289 - acc: 0.6222 - val_loss: 1.0405 - val_acc: 0.5333\n",
            "Epoch 55/200\n",
            "3/3 [==============================] - 0s 32ms/step - loss: 0.8775 - acc: 0.6000 - val_loss: 1.0765 - val_acc: 0.5333\n",
            "Epoch 56/200\n",
            "3/3 [==============================] - 0s 32ms/step - loss: 0.8678 - acc: 0.5889 - val_loss: 1.0447 - val_acc: 0.5333\n",
            "Epoch 57/200\n",
            "3/3 [==============================] - 0s 36ms/step - loss: 0.8533 - acc: 0.6000 - val_loss: 1.0559 - val_acc: 0.5333\n",
            "Epoch 58/200\n",
            "3/3 [==============================] - 0s 38ms/step - loss: 0.8492 - acc: 0.6667 - val_loss: 1.0686 - val_acc: 0.5333\n",
            "Epoch 59/200\n",
            "3/3 [==============================] - 0s 29ms/step - loss: 0.8712 - acc: 0.5889 - val_loss: 1.0392 - val_acc: 0.5333\n",
            "Epoch 60/200\n",
            "3/3 [==============================] - 0s 21ms/step - loss: 0.8300 - acc: 0.6889 - val_loss: 1.0456 - val_acc: 0.5333\n",
            "Epoch 61/200\n",
            "3/3 [==============================] - 0s 19ms/step - loss: 0.8215 - acc: 0.6444 - val_loss: 1.0650 - val_acc: 0.5333\n",
            "Epoch 62/200\n",
            "3/3 [==============================] - 0s 28ms/step - loss: 0.8203 - acc: 0.6556 - val_loss: 1.0472 - val_acc: 0.5333\n",
            "Epoch 63/200\n",
            "3/3 [==============================] - 0s 19ms/step - loss: 0.8154 - acc: 0.6222 - val_loss: 1.0689 - val_acc: 0.5333\n",
            "Epoch 64/200\n",
            "3/3 [==============================] - 0s 21ms/step - loss: 0.7839 - acc: 0.6222 - val_loss: 1.0598 - val_acc: 0.5333\n",
            "Epoch 65/200\n",
            "3/3 [==============================] - 0s 30ms/step - loss: 0.7369 - acc: 0.7222 - val_loss: 1.0199 - val_acc: 0.5333\n",
            "Epoch 66/200\n",
            "3/3 [==============================] - 0s 29ms/step - loss: 0.8772 - acc: 0.6000 - val_loss: 1.0280 - val_acc: 0.5333\n",
            "Epoch 67/200\n",
            "3/3 [==============================] - 0s 19ms/step - loss: 0.7632 - acc: 0.6778 - val_loss: 1.0795 - val_acc: 0.5000\n",
            "Epoch 68/200\n",
            "3/3 [==============================] - 0s 36ms/step - loss: 0.7936 - acc: 0.6667 - val_loss: 1.0498 - val_acc: 0.5000\n",
            "Epoch 69/200\n",
            "3/3 [==============================] - 0s 20ms/step - loss: 0.7353 - acc: 0.7333 - val_loss: 1.0196 - val_acc: 0.5333\n",
            "Epoch 70/200\n",
            "3/3 [==============================] - 0s 29ms/step - loss: 0.7992 - acc: 0.6889 - val_loss: 1.0400 - val_acc: 0.5333\n",
            "Epoch 71/200\n",
            "3/3 [==============================] - 0s 31ms/step - loss: 0.8066 - acc: 0.6333 - val_loss: 1.0830 - val_acc: 0.5000\n",
            "Epoch 72/200\n",
            "3/3 [==============================] - 0s 20ms/step - loss: 0.7872 - acc: 0.6667 - val_loss: 1.0668 - val_acc: 0.5000\n",
            "Epoch 73/200\n",
            "3/3 [==============================] - 0s 20ms/step - loss: 0.7932 - acc: 0.5667 - val_loss: 1.0433 - val_acc: 0.5333\n",
            "Epoch 74/200\n",
            "3/3 [==============================] - 0s 23ms/step - loss: 0.7781 - acc: 0.6778 - val_loss: 1.0141 - val_acc: 0.6000\n",
            "Epoch 75/200\n",
            "3/3 [==============================] - 0s 28ms/step - loss: 0.7041 - acc: 0.7111 - val_loss: 1.0409 - val_acc: 0.5333\n",
            "Epoch 76/200\n",
            "3/3 [==============================] - 0s 29ms/step - loss: 0.7201 - acc: 0.7222 - val_loss: 1.0780 - val_acc: 0.5000\n",
            "Epoch 77/200\n",
            "3/3 [==============================] - 0s 27ms/step - loss: 0.7214 - acc: 0.7111 - val_loss: 1.0345 - val_acc: 0.5667\n",
            "Epoch 78/200\n",
            "3/3 [==============================] - 0s 19ms/step - loss: 0.7834 - acc: 0.6667 - val_loss: 0.9793 - val_acc: 0.6333\n",
            "Epoch 79/200\n",
            "3/3 [==============================] - 0s 20ms/step - loss: 0.7071 - acc: 0.7111 - val_loss: 1.0248 - val_acc: 0.5667\n",
            "Epoch 80/200\n",
            "3/3 [==============================] - 0s 20ms/step - loss: 0.7614 - acc: 0.6667 - val_loss: 1.0666 - val_acc: 0.5333\n",
            "Epoch 81/200\n",
            "3/3 [==============================] - 0s 22ms/step - loss: 0.7103 - acc: 0.7000 - val_loss: 1.0158 - val_acc: 0.5333\n",
            "Epoch 82/200\n",
            "3/3 [==============================] - 0s 28ms/step - loss: 0.6819 - acc: 0.7778 - val_loss: 0.9890 - val_acc: 0.6000\n",
            "Epoch 83/200\n",
            "3/3 [==============================] - 0s 28ms/step - loss: 0.7507 - acc: 0.6778 - val_loss: 1.0413 - val_acc: 0.5333\n",
            "Epoch 84/200\n",
            "3/3 [==============================] - 0s 25ms/step - loss: 0.6813 - acc: 0.7000 - val_loss: 1.1213 - val_acc: 0.4333\n",
            "Epoch 85/200\n",
            "3/3 [==============================] - 0s 27ms/step - loss: 0.7300 - acc: 0.7000 - val_loss: 1.0663 - val_acc: 0.4667\n",
            "Epoch 86/200\n",
            "3/3 [==============================] - 0s 22ms/step - loss: 0.6911 - acc: 0.7333 - val_loss: 0.9992 - val_acc: 0.6000\n",
            "Epoch 87/200\n",
            "3/3 [==============================] - 0s 30ms/step - loss: 0.7274 - acc: 0.6889 - val_loss: 1.0265 - val_acc: 0.5667\n",
            "Epoch 88/200\n",
            "3/3 [==============================] - 0s 19ms/step - loss: 0.7882 - acc: 0.6556 - val_loss: 1.0424 - val_acc: 0.5333\n",
            "Epoch 89/200\n",
            "3/3 [==============================] - 0s 19ms/step - loss: 0.7201 - acc: 0.6111 - val_loss: 1.0296 - val_acc: 0.5667\n",
            "Epoch 90/200\n",
            "3/3 [==============================] - 0s 29ms/step - loss: 0.7487 - acc: 0.7000 - val_loss: 1.0058 - val_acc: 0.5667\n",
            "Epoch 91/200\n",
            "3/3 [==============================] - 0s 20ms/step - loss: 0.6995 - acc: 0.6889 - val_loss: 0.9842 - val_acc: 0.6000\n",
            "Epoch 92/200\n",
            "3/3 [==============================] - 0s 21ms/step - loss: 0.6529 - acc: 0.7444 - val_loss: 1.0185 - val_acc: 0.5667\n",
            "Epoch 93/200\n",
            "3/3 [==============================] - 0s 19ms/step - loss: 0.6870 - acc: 0.6667 - val_loss: 1.0921 - val_acc: 0.5333\n",
            "Epoch 94/200\n",
            "3/3 [==============================] - 0s 28ms/step - loss: 0.7307 - acc: 0.6444 - val_loss: 1.0391 - val_acc: 0.5667\n",
            "Epoch 95/200\n",
            "3/3 [==============================] - 0s 28ms/step - loss: 0.6590 - acc: 0.7333 - val_loss: 0.9683 - val_acc: 0.6000\n",
            "Epoch 96/200\n",
            "3/3 [==============================] - 0s 28ms/step - loss: 0.7137 - acc: 0.6667 - val_loss: 0.9878 - val_acc: 0.6000\n",
            "Epoch 97/200\n",
            "3/3 [==============================] - 0s 23ms/step - loss: 0.6818 - acc: 0.7000 - val_loss: 1.1051 - val_acc: 0.5333\n",
            "Epoch 98/200\n",
            "3/3 [==============================] - 0s 19ms/step - loss: 0.7138 - acc: 0.6778 - val_loss: 1.0689 - val_acc: 0.5333\n",
            "Epoch 99/200\n",
            "3/3 [==============================] - 0s 22ms/step - loss: 0.7501 - acc: 0.6556 - val_loss: 0.9505 - val_acc: 0.5667\n",
            "Epoch 100/200\n",
            "3/3 [==============================] - 0s 30ms/step - loss: 0.7218 - acc: 0.6889 - val_loss: 1.0050 - val_acc: 0.5667\n",
            "Epoch 101/200\n",
            "3/3 [==============================] - 0s 34ms/step - loss: 0.7352 - acc: 0.6556 - val_loss: 1.0574 - val_acc: 0.5000\n",
            "Epoch 102/200\n",
            "3/3 [==============================] - 0s 29ms/step - loss: 0.6833 - acc: 0.6889 - val_loss: 1.0241 - val_acc: 0.5667\n",
            "Epoch 103/200\n",
            "3/3 [==============================] - 0s 23ms/step - loss: 0.6489 - acc: 0.7333 - val_loss: 1.0224 - val_acc: 0.6000\n",
            "Epoch 104/200\n",
            "3/3 [==============================] - 0s 18ms/step - loss: 0.7333 - acc: 0.6667 - val_loss: 1.1303 - val_acc: 0.4667\n",
            "Epoch 105/200\n",
            "3/3 [==============================] - 0s 18ms/step - loss: 0.6944 - acc: 0.6889 - val_loss: 1.0816 - val_acc: 0.4667\n",
            "Epoch 106/200\n",
            "3/3 [==============================] - 0s 19ms/step - loss: 0.6158 - acc: 0.7333 - val_loss: 0.9921 - val_acc: 0.6000\n",
            "Epoch 107/200\n",
            "3/3 [==============================] - 0s 30ms/step - loss: 0.6619 - acc: 0.7111 - val_loss: 1.0130 - val_acc: 0.5667\n",
            "Epoch 108/200\n",
            "3/3 [==============================] - 0s 19ms/step - loss: 0.7281 - acc: 0.7556 - val_loss: 1.1292 - val_acc: 0.4667\n",
            "Epoch 109/200\n",
            "3/3 [==============================] - 0s 19ms/step - loss: 0.6736 - acc: 0.7000 - val_loss: 1.0563 - val_acc: 0.5667\n",
            "Epoch 110/200\n",
            "3/3 [==============================] - 0s 19ms/step - loss: 0.6811 - acc: 0.6556 - val_loss: 0.9677 - val_acc: 0.6000\n",
            "Epoch 111/200\n",
            "3/3 [==============================] - 0s 18ms/step - loss: 0.7344 - acc: 0.6667 - val_loss: 0.9899 - val_acc: 0.5667\n",
            "Epoch 112/200\n",
            "3/3 [==============================] - 0s 29ms/step - loss: 0.6711 - acc: 0.7333 - val_loss: 1.1042 - val_acc: 0.4667\n",
            "Epoch 113/200\n",
            "3/3 [==============================] - 0s 19ms/step - loss: 0.7319 - acc: 0.6778 - val_loss: 0.9908 - val_acc: 0.5667\n",
            "Epoch 114/200\n",
            "3/3 [==============================] - 0s 19ms/step - loss: 0.6415 - acc: 0.7333 - val_loss: 0.9707 - val_acc: 0.6000\n",
            "Epoch 115/200\n",
            "3/3 [==============================] - 0s 18ms/step - loss: 0.6249 - acc: 0.8000 - val_loss: 1.0276 - val_acc: 0.5667\n",
            "Epoch 116/200\n",
            "3/3 [==============================] - 0s 18ms/step - loss: 0.6148 - acc: 0.7222 - val_loss: 1.0489 - val_acc: 0.5667\n",
            "Epoch 117/200\n",
            "3/3 [==============================] - 0s 20ms/step - loss: 0.6520 - acc: 0.6222 - val_loss: 1.0150 - val_acc: 0.5667\n",
            "Epoch 118/200\n",
            "3/3 [==============================] - 0s 27ms/step - loss: 0.6724 - acc: 0.7333 - val_loss: 1.0240 - val_acc: 0.5667\n",
            "Epoch 119/200\n",
            "3/3 [==============================] - 0s 24ms/step - loss: 0.7487 - acc: 0.6556 - val_loss: 1.0193 - val_acc: 0.5667\n",
            "Epoch 120/200\n",
            "3/3 [==============================] - 0s 18ms/step - loss: 0.6519 - acc: 0.7000 - val_loss: 0.9765 - val_acc: 0.5000\n",
            "Epoch 121/200\n",
            "3/3 [==============================] - 0s 22ms/step - loss: 0.6593 - acc: 0.7111 - val_loss: 0.9598 - val_acc: 0.5667\n",
            "Epoch 122/200\n",
            "3/3 [==============================] - 0s 20ms/step - loss: 0.6296 - acc: 0.7444 - val_loss: 1.0268 - val_acc: 0.5667\n",
            "Epoch 123/200\n",
            "3/3 [==============================] - 0s 28ms/step - loss: 0.6108 - acc: 0.7333 - val_loss: 1.0489 - val_acc: 0.5667\n",
            "Epoch 124/200\n",
            "3/3 [==============================] - 0s 30ms/step - loss: 0.6240 - acc: 0.7778 - val_loss: 1.0610 - val_acc: 0.5667\n",
            "Epoch 125/200\n",
            "3/3 [==============================] - 0s 22ms/step - loss: 0.6093 - acc: 0.7556 - val_loss: 0.9954 - val_acc: 0.6000\n",
            "Epoch 126/200\n",
            "3/3 [==============================] - 0s 20ms/step - loss: 0.6281 - acc: 0.7111 - val_loss: 0.9759 - val_acc: 0.6000\n",
            "Epoch 127/200\n",
            "3/3 [==============================] - 0s 19ms/step - loss: 0.6386 - acc: 0.7667 - val_loss: 1.0193 - val_acc: 0.5667\n",
            "Epoch 128/200\n",
            "3/3 [==============================] - 0s 19ms/step - loss: 0.5878 - acc: 0.8000 - val_loss: 1.0256 - val_acc: 0.5667\n",
            "Epoch 129/200\n",
            "3/3 [==============================] - 0s 20ms/step - loss: 0.5860 - acc: 0.7667 - val_loss: 1.0239 - val_acc: 0.5667\n",
            "Epoch 130/200\n",
            "3/3 [==============================] - 0s 29ms/step - loss: 0.6117 - acc: 0.7556 - val_loss: 1.0205 - val_acc: 0.5667\n",
            "Epoch 131/200\n",
            "3/3 [==============================] - 0s 21ms/step - loss: 0.6498 - acc: 0.7111 - val_loss: 1.0205 - val_acc: 0.5667\n",
            "Epoch 132/200\n",
            "3/3 [==============================] - 0s 29ms/step - loss: 0.5762 - acc: 0.7556 - val_loss: 1.0426 - val_acc: 0.5667\n",
            "Epoch 133/200\n",
            "3/3 [==============================] - 0s 20ms/step - loss: 0.6357 - acc: 0.7000 - val_loss: 1.0007 - val_acc: 0.5667\n",
            "Epoch 134/200\n",
            "3/3 [==============================] - 0s 28ms/step - loss: 0.5718 - acc: 0.7778 - val_loss: 1.0107 - val_acc: 0.5667\n",
            "Epoch 135/200\n",
            "3/3 [==============================] - 0s 23ms/step - loss: 0.6136 - acc: 0.7556 - val_loss: 1.0366 - val_acc: 0.5667\n",
            "Epoch 136/200\n",
            "3/3 [==============================] - 0s 34ms/step - loss: 0.6099 - acc: 0.7556 - val_loss: 1.0039 - val_acc: 0.6000\n",
            "Epoch 137/200\n",
            "3/3 [==============================] - 0s 22ms/step - loss: 0.5676 - acc: 0.7667 - val_loss: 1.0638 - val_acc: 0.5667\n",
            "Epoch 138/200\n",
            "3/3 [==============================] - 0s 30ms/step - loss: 0.5904 - acc: 0.7444 - val_loss: 1.1122 - val_acc: 0.5333\n",
            "Epoch 139/200\n",
            "3/3 [==============================] - 0s 29ms/step - loss: 0.5660 - acc: 0.7667 - val_loss: 1.1022 - val_acc: 0.5667\n",
            "Epoch 140/200\n",
            "3/3 [==============================] - 0s 22ms/step - loss: 0.5663 - acc: 0.8000 - val_loss: 0.9923 - val_acc: 0.6000\n",
            "Epoch 141/200\n",
            "3/3 [==============================] - 0s 30ms/step - loss: 0.5295 - acc: 0.7889 - val_loss: 0.9958 - val_acc: 0.5667\n",
            "Epoch 142/200\n",
            "3/3 [==============================] - 0s 24ms/step - loss: 0.6400 - acc: 0.7556 - val_loss: 1.0439 - val_acc: 0.5333\n",
            "Epoch 143/200\n",
            "3/3 [==============================] - 0s 29ms/step - loss: 0.5931 - acc: 0.7333 - val_loss: 1.1808 - val_acc: 0.5333\n",
            "Epoch 144/200\n",
            "3/3 [==============================] - 0s 30ms/step - loss: 0.5901 - acc: 0.7222 - val_loss: 1.0629 - val_acc: 0.5667\n",
            "Epoch 145/200\n",
            "3/3 [==============================] - 0s 29ms/step - loss: 0.6630 - acc: 0.7000 - val_loss: 0.9674 - val_acc: 0.5667\n",
            "Epoch 146/200\n",
            "3/3 [==============================] - 0s 21ms/step - loss: 0.5677 - acc: 0.8000 - val_loss: 1.1129 - val_acc: 0.5667\n",
            "Epoch 147/200\n",
            "3/3 [==============================] - 0s 28ms/step - loss: 0.6034 - acc: 0.7778 - val_loss: 1.0825 - val_acc: 0.6000\n",
            "Epoch 148/200\n",
            "3/3 [==============================] - 0s 28ms/step - loss: 0.5817 - acc: 0.7556 - val_loss: 1.0120 - val_acc: 0.6000\n",
            "Epoch 149/200\n",
            "3/3 [==============================] - 0s 30ms/step - loss: 0.5976 - acc: 0.7889 - val_loss: 1.0298 - val_acc: 0.5667\n",
            "Epoch 150/200\n",
            "3/3 [==============================] - 0s 28ms/step - loss: 0.6115 - acc: 0.7000 - val_loss: 1.1933 - val_acc: 0.5333\n",
            "Epoch 151/200\n",
            "3/3 [==============================] - 0s 27ms/step - loss: 0.5943 - acc: 0.7444 - val_loss: 1.0195 - val_acc: 0.6000\n",
            "Epoch 152/200\n",
            "3/3 [==============================] - 0s 29ms/step - loss: 0.5798 - acc: 0.8111 - val_loss: 0.9735 - val_acc: 0.6333\n",
            "Epoch 153/200\n",
            "3/3 [==============================] - 0s 32ms/step - loss: 0.5431 - acc: 0.7778 - val_loss: 1.0267 - val_acc: 0.6000\n",
            "Epoch 154/200\n",
            "3/3 [==============================] - 0s 20ms/step - loss: 0.5235 - acc: 0.7778 - val_loss: 1.1542 - val_acc: 0.5667\n",
            "Epoch 155/200\n",
            "3/3 [==============================] - 0s 20ms/step - loss: 0.5427 - acc: 0.7556 - val_loss: 1.0295 - val_acc: 0.5667\n",
            "Epoch 156/200\n",
            "3/3 [==============================] - 0s 22ms/step - loss: 0.5701 - acc: 0.7889 - val_loss: 1.0026 - val_acc: 0.6000\n",
            "Epoch 157/200\n",
            "3/3 [==============================] - 0s 31ms/step - loss: 0.5016 - acc: 0.7556 - val_loss: 1.0479 - val_acc: 0.5667\n",
            "Epoch 158/200\n",
            "3/3 [==============================] - 0s 20ms/step - loss: 0.5636 - acc: 0.8000 - val_loss: 1.0586 - val_acc: 0.5667\n",
            "Epoch 159/200\n",
            "3/3 [==============================] - 0s 19ms/step - loss: 0.4584 - acc: 0.8444 - val_loss: 1.0520 - val_acc: 0.5333\n",
            "Epoch 160/200\n",
            "3/3 [==============================] - 0s 30ms/step - loss: 0.5940 - acc: 0.7778 - val_loss: 1.0118 - val_acc: 0.5667\n",
            "Epoch 161/200\n",
            "3/3 [==============================] - 0s 20ms/step - loss: 0.5928 - acc: 0.7333 - val_loss: 1.0494 - val_acc: 0.5667\n",
            "Epoch 162/200\n",
            "3/3 [==============================] - 0s 21ms/step - loss: 0.5789 - acc: 0.6889 - val_loss: 1.0429 - val_acc: 0.6000\n",
            "Epoch 163/200\n",
            "3/3 [==============================] - 0s 29ms/step - loss: 0.5828 - acc: 0.7000 - val_loss: 0.9288 - val_acc: 0.6333\n",
            "Epoch 164/200\n",
            "3/3 [==============================] - 0s 19ms/step - loss: 0.5618 - acc: 0.8556 - val_loss: 0.9909 - val_acc: 0.6000\n",
            "Epoch 165/200\n",
            "3/3 [==============================] - 0s 23ms/step - loss: 0.5298 - acc: 0.7778 - val_loss: 1.0654 - val_acc: 0.5667\n",
            "Epoch 166/200\n",
            "3/3 [==============================] - 0s 28ms/step - loss: 0.5063 - acc: 0.7556 - val_loss: 1.0784 - val_acc: 0.6000\n",
            "Epoch 167/200\n",
            "3/3 [==============================] - 0s 30ms/step - loss: 0.5612 - acc: 0.7667 - val_loss: 1.1216 - val_acc: 0.5667\n",
            "Epoch 168/200\n",
            "3/3 [==============================] - 0s 24ms/step - loss: 0.5039 - acc: 0.7667 - val_loss: 1.0334 - val_acc: 0.6333\n",
            "Epoch 169/200\n",
            "3/3 [==============================] - 0s 21ms/step - loss: 0.5648 - acc: 0.7667 - val_loss: 0.9397 - val_acc: 0.7000\n",
            "Epoch 170/200\n",
            "3/3 [==============================] - 0s 20ms/step - loss: 0.5686 - acc: 0.7556 - val_loss: 1.0361 - val_acc: 0.6333\n",
            "Epoch 171/200\n",
            "3/3 [==============================] - 0s 19ms/step - loss: 0.5456 - acc: 0.7667 - val_loss: 1.0851 - val_acc: 0.6000\n",
            "Epoch 172/200\n",
            "3/3 [==============================] - 0s 20ms/step - loss: 0.5066 - acc: 0.7889 - val_loss: 1.0076 - val_acc: 0.6000\n",
            "Epoch 173/200\n",
            "3/3 [==============================] - 0s 21ms/step - loss: 0.4951 - acc: 0.8000 - val_loss: 1.0807 - val_acc: 0.5333\n",
            "Epoch 174/200\n",
            "3/3 [==============================] - 0s 20ms/step - loss: 0.4922 - acc: 0.8333 - val_loss: 1.0846 - val_acc: 0.6000\n",
            "Epoch 175/200\n",
            "3/3 [==============================] - 0s 18ms/step - loss: 0.4939 - acc: 0.8444 - val_loss: 1.0062 - val_acc: 0.6667\n",
            "Epoch 176/200\n",
            "3/3 [==============================] - 0s 27ms/step - loss: 0.5223 - acc: 0.8222 - val_loss: 1.0525 - val_acc: 0.6000\n",
            "Epoch 177/200\n",
            "3/3 [==============================] - 0s 19ms/step - loss: 0.5163 - acc: 0.8111 - val_loss: 1.1114 - val_acc: 0.6000\n",
            "Epoch 178/200\n",
            "3/3 [==============================] - 0s 18ms/step - loss: 0.5154 - acc: 0.7889 - val_loss: 1.0557 - val_acc: 0.5667\n",
            "Epoch 179/200\n",
            "3/3 [==============================] - 0s 20ms/step - loss: 0.4763 - acc: 0.8333 - val_loss: 1.0481 - val_acc: 0.6000\n",
            "Epoch 180/200\n",
            "3/3 [==============================] - 0s 20ms/step - loss: 0.4669 - acc: 0.8333 - val_loss: 1.0043 - val_acc: 0.6333\n",
            "Epoch 181/200\n",
            "3/3 [==============================] - 0s 20ms/step - loss: 0.4939 - acc: 0.7889 - val_loss: 1.1628 - val_acc: 0.5667\n",
            "Epoch 182/200\n",
            "3/3 [==============================] - 0s 22ms/step - loss: 0.5166 - acc: 0.8111 - val_loss: 1.1082 - val_acc: 0.6000\n",
            "Epoch 183/200\n",
            "3/3 [==============================] - 0s 21ms/step - loss: 0.4617 - acc: 0.8222 - val_loss: 0.9876 - val_acc: 0.6667\n",
            "Epoch 184/200\n",
            "3/3 [==============================] - 0s 28ms/step - loss: 0.5085 - acc: 0.8333 - val_loss: 0.9828 - val_acc: 0.6000\n",
            "Epoch 185/200\n",
            "3/3 [==============================] - 0s 19ms/step - loss: 0.4714 - acc: 0.8556 - val_loss: 1.0011 - val_acc: 0.6000\n",
            "Epoch 186/200\n",
            "3/3 [==============================] - 0s 23ms/step - loss: 0.4757 - acc: 0.8222 - val_loss: 0.9775 - val_acc: 0.6667\n",
            "Epoch 187/200\n",
            "3/3 [==============================] - 0s 19ms/step - loss: 0.4419 - acc: 0.8222 - val_loss: 1.0837 - val_acc: 0.6000\n",
            "Epoch 188/200\n",
            "3/3 [==============================] - 0s 20ms/step - loss: 0.5314 - acc: 0.8222 - val_loss: 1.0544 - val_acc: 0.6000\n",
            "Epoch 189/200\n",
            "3/3 [==============================] - 0s 29ms/step - loss: 0.4344 - acc: 0.8333 - val_loss: 1.0442 - val_acc: 0.6333\n",
            "Epoch 190/200\n",
            "3/3 [==============================] - 0s 22ms/step - loss: 0.4612 - acc: 0.8000 - val_loss: 1.0297 - val_acc: 0.6333\n",
            "Epoch 191/200\n",
            "3/3 [==============================] - 0s 20ms/step - loss: 0.5504 - acc: 0.7889 - val_loss: 1.0702 - val_acc: 0.6000\n",
            "Epoch 192/200\n",
            "3/3 [==============================] - 0s 19ms/step - loss: 0.4664 - acc: 0.8111 - val_loss: 1.0098 - val_acc: 0.6333\n",
            "Epoch 193/200\n",
            "3/3 [==============================] - 0s 21ms/step - loss: 0.5274 - acc: 0.7667 - val_loss: 0.9792 - val_acc: 0.6333\n",
            "Epoch 194/200\n",
            "3/3 [==============================] - 0s 23ms/step - loss: 0.4263 - acc: 0.8778 - val_loss: 1.0657 - val_acc: 0.6333\n",
            "Epoch 195/200\n",
            "3/3 [==============================] - 0s 20ms/step - loss: 0.4066 - acc: 0.8444 - val_loss: 1.1217 - val_acc: 0.6000\n",
            "Epoch 196/200\n",
            "3/3 [==============================] - 0s 20ms/step - loss: 0.4365 - acc: 0.8444 - val_loss: 1.0931 - val_acc: 0.6333\n",
            "Epoch 197/200\n",
            "3/3 [==============================] - 0s 20ms/step - loss: 0.4409 - acc: 0.8333 - val_loss: 1.0236 - val_acc: 0.6000\n",
            "Epoch 198/200\n",
            "3/3 [==============================] - 0s 20ms/step - loss: 0.4219 - acc: 0.8444 - val_loss: 1.0286 - val_acc: 0.6333\n",
            "Epoch 199/200\n",
            "3/3 [==============================] - 0s 21ms/step - loss: 0.4644 - acc: 0.8000 - val_loss: 1.0470 - val_acc: 0.6000\n",
            "Epoch 200/200\n",
            "3/3 [==============================] - 0s 22ms/step - loss: 0.4391 - acc: 0.8111 - val_loss: 1.0858 - val_acc: 0.6000\n"
          ]
        }
      ]
    },
    {
      "cell_type": "code",
      "metadata": {
        "colab": {
          "base_uri": "https://localhost:8080/",
          "height": 887
        },
        "id": "qJnFOLndpoN9",
        "outputId": "74002718-9995-412e-da1e-8930f5132fc5"
      },
      "source": [
        "### Plot training and validation accuracy and loss over time\n",
        "\n",
        "# Extract accuracy and loss values (in list form) from the history\n",
        "acc = history.history['acc']\n",
        "val_acc = history.history['val_acc']\n",
        "loss = history.history['loss']\n",
        "val_loss = history.history['val_loss']\n",
        "\n",
        "# Create a list of epoch numbers\n",
        "epochs = range(1, len(acc) + 1)\n",
        "\n",
        "# Plot training and validation loss values over time\n",
        "plt.figure()\n",
        "plt.plot(epochs, loss, color='blue', marker='.', label='Training loss')\n",
        "plt.plot(epochs, val_loss, color='orange', marker='.', label='Validation loss')\n",
        "plt.title('Training and validation loss')\n",
        "plt.legend()\n",
        "\n",
        "# Plot training and validation accuracies over time\n",
        "plt.figure()\n",
        "plt.plot(epochs, acc, color='blue', marker='.', label='Training acc')\n",
        "plt.plot(epochs, val_acc, color='orange', marker='.', label='Validation acc')\n",
        "plt.title('Training and validation accuracy')\n",
        "plt.legend()\n",
        "plt.show()"
      ],
      "execution_count": null,
      "outputs": [
        {
          "output_type": "display_data",
          "data": {
            "text/plain": [
              "<Figure size 640x480 with 1 Axes>"
            ],
            "image/png": "[encoded data removed]"
          },
          "metadata": {}
        },
        {
          "output_type": "display_data",
          "data": {
            "text/plain": [
              "<Figure size 640x480 with 1 Axes>"
            ],
            "image/png": "[encoded data removed]"
          },
          "metadata": {}
        }
      ]
    },
    {
      "cell_type": "code",
      "metadata": {
        "colab": {
          "base_uri": "https://localhost:8080/"
        },
        "id": "kgmX9gfJpq-L",
        "outputId": "83412147-216f-442b-a522-6ff64b4ae5dd"
      },
      "source": [
        "### Try predicting label with one validation sample (inference)\n",
        "\n",
        "# Change this to try a different sample from the test set\n",
        "idx = 0\n",
        "\n",
        "# Make sample 2D array instead of 1D vector (this is what the Keras model expects as input)\n",
        "x = np.expand_dims(X_val[idx], 0)\n",
        "\n",
        "# Make prediction using trained model\n",
        "y_pred = model.predict(x)\n",
        "\n",
        "# Find index of highest score in output\n",
        "predicted_label = np.argmax(y_pred)\n",
        "actual_label = np.argmax(Y_val[idx])\n",
        "\n",
        "# Display model output, predicted label, actual label\n",
        "print(\"Model output:\", y_pred)\n",
        "print(\"Predicted label:\", predicted_label, \"-\", labels[predicted_label])\n",
        "print(\"Actual label:\", actual_label, \"-\", labels[actual_label])"
      ],
      "execution_count": null,
      "outputs": [
        {
          "output_type": "stream",
          "name": "stdout",
          "text": [
            "1/1 [==============================] - 0s 95ms/step\n",
            "Model output: [[0.14669256 0.7119486  0.14135891]]\n",
            "Predicted label: 1 - cashew\n",
            "Actual label: 1 - cashew\n"
          ]
        }
      ]
    },
    {
      "cell_type": "code",
      "metadata": {
        "colab": {
          "base_uri": "https://localhost:8080/"
        },
        "id": "0Lo3KWpjptJk",
        "outputId": "f7c7cbca-2de2-4d6e-ee59-b8605723041d"
      },
      "source": [
        "### Create confusion matrix from validation set\n",
        "\n",
        "# Find predictions from all validation samples\n",
        "Y_pred = model.predict(X_val)\n",
        "print(\"Validation output shape:\", Y_pred.shape)\n",
        "\n",
        "# Convert actual and predicted validation one-hot encoding to numerical labels\n",
        "y_val = np.argmax(Y_val, axis=1)\n",
        "y_pred = np.argmax(Y_pred, axis=1)\n",
        "\n",
        "# Print some values from actual and predicted validation sets (first 50 samples)\n",
        "print(\"Actual validation labels:\\t\", y_val[:50])\n",
        "print(\"Predicted validation labels:\\t\", y_pred[:50])\n",
        "\n",
        "# Compute confusion matrix (note: we need to transpose SKLearn matrix to make it match Edge Impulse)\n",
        "cm = confusion_matrix(y_val, y_pred)\n",
        "cm = np.transpose(cm)\n",
        "\n",
        "# Print confusion matrix\n",
        "print()\n",
        "print(\" ---> Predicted labels\")\n",
        "print(\"|\")\n",
        "print(\"v Actual labels\")\n",
        "print(\"\\t\\t\\t\" + ' '.join(\"{!s:6}\".format('(' + str(i) + ')') for i in range(num_classes)))\n",
        "for row in range(num_classes):\n",
        "  print(\"{:>12} ({}):  [{}]\".format(labels[row], row, ' '.join(\"{:6}\".format(i) for i in cm[row])))"
      ],
      "execution_count": null,
      "outputs": [
        {
          "output_type": "stream",
          "name": "stdout",
          "text": [
            "1/1 [==============================] - 0s 23ms/step\n",
            "Validation output shape: (30, 3)\n",
            "Actual validation labels:\t [1 1 2 0 0 0 0 1 0 1 1 0 1 2 0 1 2 0 1 1 0 1 1 2 0 2 2 2 1 1]\n",
            "Predicted validation labels:\t [1 1 0 0 0 0 2 1 0 2 1 0 1 1 0 2 2 1 1 1 0 2 2 2 0 1 1 2 0 2]\n",
            "\n",
            " ---> Predicted labels\n",
            "|\n",
            "v Actual labels\n",
            "\t\t\t(0)    (1)    (2)   \n",
            "          bc (0):  [     8      1      1]\n",
            "      cashew (1):  [     1      7      3]\n",
            "      peanut (2):  [     1      5      3]\n"
          ]
        }
      ]
    },
    {
      "cell_type": "code",
      "metadata": {
        "colab": {
          "base_uri": "https://localhost:8080/"
        },
        "id": "hgZXa_y2qorZ",
        "outputId": "9f38bcb4-24f7-4935-c1f1-df3952b3293b"
      },
      "source": [
        "### Evaluate model on validation set\n",
        "score = model.evaluate(X_val, Y_val)\n",
        "print(\"Validation loss:\", score[0])\n",
        "print(\"Validation accuracy:\", score[1])"
      ],
      "execution_count": null,
      "outputs": [
        {
          "output_type": "stream",
          "name": "stdout",
          "text": [
            "1/1 [==============================] - 0s 52ms/step - loss: 1.0858 - acc: 0.6000\n",
            "Validation loss: 1.0857734680175781\n",
            "Validation accuracy: 0.6000000238418579\n"
          ]
        }
      ]
    },
    {
      "cell_type": "code",
      "metadata": {
        "colab": {
          "base_uri": "https://localhost:8080/"
        },
        "id": "m2lvFg0RVxFr",
        "outputId": "f10f10ce-6008-4eae-d024-91c6f67571e1"
      },
      "source": [
        "### Evaluate model on entire test set\n",
        "score = model.evaluate(X_test, Y_test)\n",
        "print(\"Test loss:\", score[0])\n",
        "print(\"Test accuracy:\", score[1])"
      ],
      "execution_count": null,
      "outputs": [
        {
          "output_type": "stream",
          "name": "stdout",
          "text": [
            "1/1 [==============================] - 0s 31ms/step - loss: 1.4733 - acc: 0.6000\n",
            "Test loss: 1.4732553958892822\n",
            "Test accuracy: 0.6000000238418579\n"
          ]
        }
      ]
    }
  ]
}